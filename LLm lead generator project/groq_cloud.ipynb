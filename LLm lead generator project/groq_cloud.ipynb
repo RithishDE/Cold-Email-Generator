{
 "cells": [
  {
   "cell_type": "code",
   "execution_count": 8,
   "id": "11badd94-90a0-463d-a418-790f00ce6be7",
   "metadata": {},
   "outputs": [
    {
     "name": "stdout",
     "output_type": "stream",
     "text": [
      "As of my knowledge cutoff in December 2022, the President of the United States of America is Joe Biden. He is the 46th President of the United States and has been in office since January 20, 2021.\n",
      "\n",
      "However, please note that the presidency is a dynamic position, and the information may change over time. If you're looking for the most up-to-date information, I recommend checking a reliable news source or the official White House website.\n"
     ]
    }
   ],
   "source": [
    "from langchain_groq import ChatGroq\n",
    "\n",
    "llm = ChatGroq(\n",
    "    temperature=0, \n",
    "    groq_api_key='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', \n",
    "    model_name=\"llama3-70b-8192\"\n",
    ")\n",
    "\n",
    "response = llm.invoke(\"who is the president of the USA\")\n",
    "print(response.content)"
   ]
  },
  {
   "cell_type": "code",
   "execution_count": null,
   "id": "55ef406a-6bef-4ece-8f67-00488e21b9e0",
   "metadata": {},
   "outputs": [],
   "source": []
  }
 ],
 "metadata": {
  "kernelspec": {
   "display_name": "Python 3 (ipykernel)",
   "language": "python",
   "name": "python3"
  },
  "language_info": {
   "codemirror_mode": {
    "name": "ipython",
    "version": 3
   },
   "file_extension": ".py",
   "mimetype": "text/x-python",
   "name": "python",
   "nbconvert_exporter": "python",
   "pygments_lexer": "ipython3",
   "version": "3.12.3"
  }
 },
 "nbformat": 4,
 "nbformat_minor": 5
}
